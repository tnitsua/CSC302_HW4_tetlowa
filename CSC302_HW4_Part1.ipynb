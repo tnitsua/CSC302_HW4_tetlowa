{
  "nbformat": 4,
  "nbformat_minor": 0,
  "metadata": {
    "colab": {
      "name": "CSC302_HW4_Part1.ipynb",
      "provenance": [],
      "collapsed_sections": []
    },
    "kernelspec": {
      "name": "python3",
      "display_name": "Python 3"
    },
    "language_info": {
      "name": "python"
    }
  },
  "cells": [
    {
      "cell_type": "markdown",
      "source": [
        "CSC302_HW4_tetlowa\n",
        "Q1\n",
        "Link to Colab Notebook: https://colab.research.google.com/drive/1GVBmZXRPX217DHKTUPKp6AQUKhtibRIX?usp=sharing"
      ],
      "metadata": {
        "id": "-8WSVsNb1XQS"
      }
    },
    {
      "cell_type": "code",
      "source": [
        "#mount drive\n",
        "from google.colab import drive\n",
        "drive.mount('/content/drive')"
      ],
      "metadata": {
        "colab": {
          "base_uri": "https://localhost:8080/"
        },
        "id": "waQhOOOiQue0",
        "outputId": "e3830411-8924-41ab-f523-8b4c5b3fcde1"
      },
      "execution_count": null,
      "outputs": [
        {
          "output_type": "stream",
          "name": "stdout",
          "text": [
            "Mounted at /content/drive\n"
          ]
        }
      ]
    },
    {
      "cell_type": "code",
      "source": [
        "import pandas as pd\n",
        "import matplotlib.pyplot as plt\n",
        "import plotly.express as px"
      ],
      "metadata": {
        "id": "8yTvQ3uoVIyD"
      },
      "execution_count": null,
      "outputs": []
    },
    {
      "cell_type": "markdown",
      "source": [
        "**Q1** Please use Pandas to read olympic_medals.csv and use parallel_categories function from plotly.express to visualize proportions of medal type for each gender from since year 2000. Please see the example in the Python notebook we walked through in the class."
      ],
      "metadata": {
        "id": "Ahlyu2CmZ7qA"
      }
    },
    {
      "cell_type": "code",
      "source": [
        "#please use this cell to read and select your data\n",
        "df = pd.read_csv('/content/drive/MyDrive/DATA/olympic_medals.csv')\n",
        "\n",
        "#sort array by year in descending order\n",
        "df2=df.sort_values(['Year'], ascending=False)"
      ],
      "metadata": {
        "id": "9bQlTm4QVPdJ"
      },
      "execution_count": null,
      "outputs": []
    },
    {
      "cell_type": "code",
      "execution_count": null,
      "metadata": {
        "colab": {
          "base_uri": "https://localhost:8080/",
          "height": 542
        },
        "id": "IUJMNrQbVBre",
        "outputId": "826309a7-cf0f-487a-bfc5-ad32258ebe32"
      },
      "outputs": [
        {
          "output_type": "display_data",
          "data": {
            "text/html": [
              "<html>\n",
              "<head><meta charset=\"utf-8\" /></head>\n",
              "<body>\n",
              "    <div>            <script src=\"https://cdnjs.cloudflare.com/ajax/libs/mathjax/2.7.5/MathJax.js?config=TeX-AMS-MML_SVG\"></script><script type=\"text/javascript\">if (window.MathJax) {MathJax.Hub.Config({SVG: {font: \"STIX-Web\"}});}</script>                <script type=\"text/javascript\">window.PlotlyConfig = {MathJaxConfig: 'local'};</script>\n",
              "        <script src=\"https://cdn.plot.ly/plotly-2.8.3.min.js\"></script>                <div id=\"79460edf-491d-4b96-b71b-8c9aa19c0e6c\" class=\"plotly-graph-div\" style=\"height:525px; width:100%;\"></div>            <script type=\"text/javascript\">                                    window.PLOTLYENV=window.PLOTLYENV || {};                                    if (document.getElementById(\"79460edf-491d-4b96-b71b-8c9aa19c0e6c\")) {                    Plotly.newPlot(                        \"79460edf-491d-4b96-b71b-8c9aa19c0e6c\",                        [{\"dimensions\":[{\"label\":\"Year\",\"values\":[2016,2016,2016,2016,2016,2016,2016,2016,2016,2016,2016,2016,2016,2016,2016,2016,2016,2016,2016,2016,2016,2016,2016,2016,2016,2016,2016,2016,2016,2016,2016,2016,2016,2016,2016,2016,2016,2016,2016,2016,2016,2016,2016,2016,2016,2016,2016,2016,2016,2016,2016,2016,2016,2016,2016,2016,2016,2016,2016,2016,2016,2016,2016,2016,2016,2016,2016,2016,2016,2016,2016,2016,2016,2016,2016,2016,2016,2016,2016,2016,2016,2016,2016,2016,2016,2016,2016,2016,2016,2016,2016,2016,2016,2016,2016,2016,2016,2016,2016,2016,2016,2016,2016,2016,2016,2016,2016,2016,2016,2016,2016,2016,2016,2016,2016,2016,2016,2016,2016,2016,2016,2016,2016,2016,2016,2016,2016,2016,2016,2016,2016,2016,2016,2016,2016,2016,2016,2016,2016,2016,2016,2012,2012,2012,2012,2012,2012,2012,2012,2012,2012,2012,2012,2012,2012,2012,2012,2012,2012,2012,2012,2012,2012,2012,2012,2012,2012,2012,2012,2012,2012,2012,2012,2012,2012,2012,2012,2012,2012,2012,2012,2012,2012,2012,2012,2012,2012,2012,2012,2012,2012,2012,2012,2012,2012,2012,2012,2012,2012,2012,2012,2012,2012,2012,2012,2012,2012,2012,2012,2012,2012,2012,2012,2012,2012,2012,2012,2012,2012,2012,2012,2012,2012,2012,2012,2012,2012,2012,2012,2012,2012,2012,2012,2012,2012,2012,2012,2012,2012,2012,2012,2012,2012,2012,2012,2012,2012,2012,2012,2012,2012,2012,2012,2012,2012,2012,2012,2012,2012,2012,2012,2012,2012,2012,2012,2012,2012,2012,2012,2012,2012,2012,2012,2012,2012,2012,2012,2012,2012,2008,2008,2008,2008,2008,2008,2008,2008,2008,2008,2008,2008,2008,2008,2008,2008,2008,2008,2008,2008,2008,2008,2008,2008,2008,2008,2008,2008,2008,2008,2008,2008,2008,2008,2008,2008,2008,2008,2008,2008,2008,2008,2008,2008,2008,2008,2008,2008,2008,2008,2008,2008,2008,2008,2008,2008,2008,2008,2008,2008,2008,2008,2008,2008,2008,2008,2008,2008,2008,2008,2008,2008,2008,2008,2008,2008,2008,2008,2008,2008,2008,2008,2008,2008,2008,2008,2008,2008,2008,2008,2008,2008,2008,2008,2008,2008,2008,2008,2008,2008,2008,2008,2008,2008,2008,2008,2008,2008,2008,2008,2008,2008,2008,2008,2008,2008,2008,2008,2008,2008,2008,2008,2008,2008,2008,2008,2008,2008,2004,2004,2004,2004,2004,2004,2004,2004,2004,2004,2004,2004,2004,2004,2004,2004,2004,2004,2004,2004,2004,2004,2004,2004,2004,2004,2004,2004,2004,2004,2004,2004,2004,2004,2004,2004,2004,2004,2004,2004,2004,2004,2004,2004,2004,2004,2004,2004,2004,2004,2004,2004,2004,2004,2004,2004,2004,2004,2004,2004,2004,2004,2004,2004,2004,2004,2004,2004,2004,2004,2004,2004,2004,2004,2004,2004,2004,2004,2004,2004,2004,2004,2004,2004,2004,2004,2004,2004,2004,2004,2004,2004,2004,2004,2004,2004,2004,2004,2004,2004,2004,2004,2004,2004,2004,2004,2004,2004,2004,2004,2004,2004,2004,2004,2004,2004,2004,2004,2004,2004,2004,2004,2004,2004,2004,2004,2004,2004,2004,2004,2004,2004,2004,2004,2004,2004,2000,2000,2000,2000,2000,2000,2000,2000,2000,2000,2000,2000,2000,2000,2000,2000,2000,2000,2000,2000,2000,2000,2000,2000,2000,2000,2000,2000,2000,2000,2000,2000,2000,2000,2000,2000,2000,2000,2000,2000,2000,2000,2000,2000,2000,2000,2000,2000,2000,2000,2000,2000,2000,2000,2000,2000,2000,2000,2000,2000,2000,2000,2000,2000,2000,2000,2000,2000,2000,2000,2000,2000,2000,2000,2000,2000,2000,2000,2000,2000,2000,2000,2000,2000,2000,2000,2000,2000,2000,2000,2000,2000,2000,2000,2000,2000,2000,2000,2000,2000,2000,2000,2000,2000,2000,2000,2000,2000,2000,2000,2000,2000,2000,2000,2000,2000,2000,2000,2000,2000,2000,2000,2000,2000,2000,2000,2000,2000,2000,2000,2000,2000,2000,2000,2000,2000,2000,2000,2000]},{\"label\":\"Medal\",\"values\":[\"G\",\"G\",\"G\",\"B\",\"S\",\"G\",\"G\",\"S\",\"B\",\"B\",\"S\",\"G\",\"B\",\"S\",\"G\",\"B\",\"S\",\"G\",\"B\",\"S\",\"G\",\"G\",\"G\",\"S\",\"B\",\"B\",\"S\",\"G\",\"B\",\"S\",\"B\",\"G\",\"G\",\"G\",\"B\",\"S\",\"G\",\"G\",\"S\",\"B\",\"B\",\"S\",\"G\",\"B\",\"S\",\"B\",\"S\",\"S\",\"G\",\"B\",\"S\",\"G\",\"G\",\"S\",\"B\",\"B\",\"S\",\"G\",\"B\",\"S\",\"G\",\"B\",\"S\",\"G\",\"B\",\"S\",\"G\",\"S\",\"B\",\"S\",\"G\",\"G\",\"S\",\"B\",\"B\",\"S\",\"G\",\"B\",\"S\",\"G\",\"B\",\"S\",\"G\",\"G\",\"S\",\"B\",\"B\",\"S\",\"G\",\"B\",\"S\",\"B\",\"G\",\"B\",\"B\",\"B\",\"S\",\"G\",\"B\",\"S\",\"G\",\"B\",\"S\",\"G\",\"G\",\"S\",\"B\",\"S\",\"S\",\"G\",\"B\",\"S\",\"G\",\"B\",\"S\",\"G\",\"G\",\"S\",\"B\",\"B\",\"S\",\"S\",\"B\",\"G\",\"G\",\"S\",\"B\",\"S\",\"G\",\"S\",\"B\",\"B\",\"G\",\"G\",\"S\",\"B\",\"S\",\"B\",\"S\",\"B\",\"G\",\"S\",\"G\",\"G\",\"B\",\"G\",\"G\",\"G\",\"B\",\"S\",\"G\",\"B\",\"B\",\"G\",\"B\",\"B\",\"B\",\"G\",\"S\",\"S\",\"G\",\"G\",\"S\",\"B\",\"B\",\"S\",\"G\",\"G\",\"S\",\"B\",\"G\",\"G\",\"S\",\"B\",\"S\",\"B\",\"B\",\"B\",\"S\",\"G\",\"S\",\"B\",\"B\",\"B\",\"G\",\"S\",\"B\",\"S\",\"B\",\"B\",\"S\",\"G\",\"B\",\"S\",\"G\",\"G\",\"S\",\"B\",\"B\",\"S\",\"G\",\"B\",\"S\",\"G\",\"B\",\"G\",\"S\",\"S\",\"S\",\"G\",\"S\",\"B\",\"G\",\"G\",\"S\",\"B\",\"G\",\"S\",\"B\",\"B\",\"S\",\"G\",\"B\",\"S\",\"G\",\"G\",\"S\",\"G\",\"B\",\"B\",\"B\",\"S\",\"S\",\"G\",\"S\",\"S\",\"G\",\"S\",\"B\",\"B\",\"S\",\"G\",\"G\",\"B\",\"G\",\"S\",\"B\",\"G\",\"S\",\"B\",\"B\",\"B\",\"S\",\"S\",\"G\",\"G\",\"B\",\"B\",\"B\",\"B\",\"S\",\"S\",\"G\",\"B\",\"S\",\"B\",\"B\",\"S\",\"G\",\"G\",\"G\",\"B\",\"S\",\"S\",\"G\",\"B\",\"S\",\"G\",\"G\",\"B\",\"G\",\"B\",\"B\",\"G\",\"S\",\"G\",\"S\",\"B\",\"B\",\"G\",\"G\",\"G\",\"S\",\"G\",\"B\",\"G\",\"S\",\"S\",\"S\",\"G\",\"B\",\"B\",\"S\",\"S\",\"B\",\"S\",\"S\",\"S\",\"B\",\"B\",\"S\",\"G\",\"S\",\"B\",\"B\",\"B\",\"G\",\"G\",\"B\",\"S\",\"G\",\"G\",\"S\",\"B\",\"G\",\"G\",\"G\",\"S\",\"S\",\"B\",\"G\",\"B\",\"S\",\"G\",\"S\",\"S\",\"B\",\"G\",\"B\",\"S\",\"G\",\"B\",\"S\",\"G\",\"G\",\"S\",\"S\",\"G\",\"G\",\"G\",\"G\",\"S\",\"G\",\"B\",\"B\",\"S\",\"G\",\"B\",\"G\",\"S\",\"G\",\"G\",\"B\",\"G\",\"S\",\"B\",\"S\",\"G\",\"S\",\"B\",\"B\",\"G\",\"S\",\"B\",\"B\",\"G\",\"B\",\"G\",\"G\",\"S\",\"B\",\"S\",\"S\",\"B\",\"S\",\"G\",\"S\",\"G\",\"S\",\"B\",\"B\",\"S\",\"G\",\"B\",\"S\",\"G\",\"G\",\"S\",\"B\",\"G\",\"G\",\"S\",\"B\",\"B\",\"B\",\"S\",\"G\",\"B\",\"S\",\"G\",\"B\",\"B\",\"S\",\"S\",\"G\",\"B\",\"S\",\"G\",\"B\",\"B\",\"B\",\"S\",\"S\",\"G\",\"G\",\"G\",\"S\",\"B\",\"B\",\"G\",\"G\",\"B\",\"S\",\"S\",\"B\",\"S\",\"B\",\"S\",\"S\",\"B\",\"B\",\"G\",\"B\",\"S\",\"G\",\"B\",\"G\",\"S\",\"G\",\"S\",\"S\",\"B\",\"G\",\"G\",\"G\",\"G\",\"G\",\"S\",\"B\",\"S\",\"G\",\"G\",\"S\",\"B\",\"G\",\"S\",\"B\",\"B\",\"S\",\"G\",\"G\",\"G\",\"B\",\"S\",\"B\",\"G\",\"S\",\"B\",\"S\",\"G\",\"B\",\"B\",\"S\",\"B\",\"S\",\"G\",\"G\",\"S\",\"S\",\"B\",\"S\",\"G\",\"G\",\"G\",\"G\",\"B\",\"S\",\"S\",\"G\",\"B\",\"B\",\"S\",\"G\",\"G\",\"S\",\"B\",\"B\",\"S\",\"G\",\"G\",\"S\",\"B\",\"B\",\"S\",\"G\",\"G\",\"B\",\"S\",\"G\",\"G\",\"G\",\"B\",\"S\",\"G\",\"S\",\"B\",\"B\",\"S\",\"G\",\"S\",\"B\",\"B\",\"B\",\"G\",\"S\",\"G\",\"B\",\"S\",\"G\",\"S\",\"B\",\"S\",\"B\",\"B\",\"S\",\"B\",\"G\",\"B\",\"S\",\"B\",\"G\",\"S\",\"G\",\"B\",\"S\",\"G\",\"G\",\"S\",\"B\",\"S\",\"S\",\"G\",\"S\",\"B\",\"S\",\"G\",\"S\",\"B\",\"G\",\"G\",\"G\",\"G\",\"B\",\"B\",\"B\",\"S\",\"G\",\"S\",\"G\",\"S\",\"B\",\"S\",\"B\",\"G\",\"S\",\"B\",\"G\",\"S\",\"B\",\"G\",\"B\",\"G\",\"S\",\"B\",\"G\",\"B\",\"S\",\"G\",\"B\",\"G\",\"S\",\"B\",\"G\",\"G\",\"S\",\"B\",\"B\",\"B\",\"B\",\"S\",\"G\",\"S\",\"S\",\"B\",\"B\",\"S\",\"B\",\"S\",\"G\",\"B\",\"B\",\"S\",\"G\",\"G\",\"S\",\"B\",\"G\",\"S\",\"G\",\"G\",\"B\",\"S\",\"G\",\"S\",\"B\",\"B\",\"S\",\"B\",\"G\",\"G\",\"G\",\"G\",\"G\",\"S\",\"B\",\"G\",\"B\",\"S\",\"G\",\"B\",\"S\",\"G\",\"S\",\"B\",\"S\",\"S\",\"B\",\"G\",\"S\",\"B\",\"B\",\"S\",\"G\",\"S\",\"B\",\"G\",\"S\",\"S\",\"B\",\"G\",\"S\",\"B\",\"S\",\"G\",\"G\",\"S\",\"B\",\"G\",\"B\",\"S\",\"G\",\"S\"]},{\"label\":\"Gender\",\"values\":[\"M\",\"W\",\"W\",\"W\",\"W\",\"W\",\"M\",\"M\",\"M\",\"W\",\"W\",\"W\",\"W\",\"W\",\"W\",\"W\",\"W\",\"W\",\"W\",\"W\",\"W\",\"M\",\"M\",\"M\",\"M\",\"W\",\"W\",\"W\",\"W\",\"W\",\"W\",\"W\",\"W\",\"W\",\"W\",\"W\",\"W\",\"M\",\"M\",\"M\",\"W\",\"W\",\"W\",\"W\",\"W\",\"W\",\"W\",\"W\",\"W\",\"W\",\"W\",\"W\",\"M\",\"M\",\"M\",\"W\",\"W\",\"W\",\"W\",\"W\",\"M\",\"W\",\"M\",\"M\",\"M\",\"M\",\"M\",\"M\",\"M\",\"M\",\"M\",\"M\",\"M\",\"M\",\"M\",\"M\",\"M\",\"M\",\"M\",\"M\",\"M\",\"M\",\"M\",\"M\",\"M\",\"M\",\"M\",\"M\",\"M\",\"M\",\"M\",\"M\",\"M\",\"M\",\"M\",\"W\",\"W\",\"W\",\"W\",\"W\",\"W\",\"M\",\"M\",\"M\",\"M\",\"M\",\"M\",\"M\",\"M\",\"M\",\"M\",\"M\",\"M\",\"M\",\"M\",\"M\",\"M\",\"M\",\"M\",\"M\",\"W\",\"M\",\"W\",\"W\",\"W\",\"M\",\"M\",\"W\",\"W\",\"W\",\"W\",\"W\",\"W\",\"M\",\"W\",\"M\",\"W\",\"W\",\"W\",\"W\",\"W\",\"W\",\"W\",\"M\",\"M\",\"W\",\"W\",\"W\",\"W\",\"W\",\"M\",\"M\",\"M\",\"M\",\"W\",\"W\",\"W\",\"M\",\"M\",\"W\",\"W\",\"M\",\"M\",\"M\",\"W\",\"W\",\"W\",\"W\",\"W\",\"W\",\"M\",\"M\",\"M\",\"M\",\"M\",\"M\",\"M\",\"M\",\"W\",\"W\",\"M\",\"W\",\"W\",\"W\",\"M\",\"M\",\"M\",\"M\",\"M\",\"W\",\"W\",\"W\",\"W\",\"W\",\"W\",\"M\",\"M\",\"M\",\"W\",\"W\",\"W\",\"M\",\"M\",\"M\",\"W\",\"M\",\"W\",\"W\",\"W\",\"W\",\"M\",\"M\",\"W\",\"M\",\"M\",\"M\",\"M\",\"M\",\"M\",\"M\",\"M\",\"M\",\"W\",\"W\",\"W\",\"M\",\"M\",\"W\",\"M\",\"W\",\"W\",\"W\",\"W\",\"M\",\"M\",\"M\",\"W\",\"M\",\"W\",\"M\",\"M\",\"M\",\"M\",\"M\",\"W\",\"M\",\"M\",\"W\",\"W\",\"M\",\"W\",\"W\",\"W\",\"M\",\"M\",\"W\",\"M\",\"W\",\"M\",\"M\",\"W\",\"W\",\"M\",\"M\",\"M\",\"W\",\"M\",\"M\",\"M\",\"W\",\"M\",\"W\",\"W\",\"W\",\"M\",\"W\",\"M\",\"M\",\"W\",\"W\",\"M\",\"W\",\"M\",\"M\",\"M\",\"M\",\"M\",\"M\",\"M\",\"W\",\"W\",\"M\",\"M\",\"M\",\"M\",\"M\",\"M\",\"W\",\"W\",\"W\",\"W\",\"W\",\"W\",\"M\",\"M\",\"M\",\"W\",\"M\",\"M\",\"M\",\"M\",\"M\",\"M\",\"M\",\"W\",\"W\",\"M\",\"W\",\"W\",\"W\",\"W\",\"W\",\"W\",\"W\",\"M\",\"M\",\"W\",\"W\",\"W\",\"M\",\"M\",\"W\",\"W\",\"W\",\"M\",\"M\",\"M\",\"M\",\"M\",\"M\",\"M\",\"M\",\"M\",\"M\",\"W\",\"W\",\"M\",\"W\",\"W\",\"W\",\"M\",\"M\",\"M\",\"M\",\"W\",\"W\",\"M\",\"M\",\"M\",\"M\",\"W\",\"M\",\"M\",\"M\",\"M\",\"M\",\"M\",\"W\",\"W\",\"W\",\"M\",\"W\",\"W\",\"W\",\"W\",\"M\",\"W\",\"W\",\"W\",\"M\",\"M\",\"M\",\"M\",\"M\",\"M\",\"M\",\"M\",\"W\",\"W\",\"W\",\"M\",\"W\",\"W\",\"W\",\"W\",\"W\",\"W\",\"W\",\"W\",\"W\",\"M\",\"W\",\"W\",\"M\",\"M\",\"M\",\"W\",\"M\",\"M\",\"M\",\"M\",\"M\",\"W\",\"M\",\"M\",\"M\",\"M\",\"M\",\"M\",\"M\",\"M\",\"M\",\"M\",\"M\",\"M\",\"M\",\"M\",\"M\",\"M\",\"M\",\"M\",\"M\",\"M\",\"M\",\"M\",\"W\",\"M\",\"M\",\"M\",\"M\",\"M\",\"M\",\"M\",\"M\",\"M\",\"W\",\"M\",\"M\",\"W\",\"M\",\"M\",\"M\",\"M\",\"W\",\"M\",\"M\",\"M\",\"M\",\"M\",\"M\",\"M\",\"M\",\"M\",\"M\",\"W\",\"W\",\"W\",\"M\",\"M\",\"M\",\"M\",\"W\",\"W\",\"M\",\"W\",\"W\",\"W\",\"W\",\"W\",\"W\",\"W\",\"W\",\"W\",\"M\",\"M\",\"M\",\"W\",\"W\",\"W\",\"W\",\"W\",\"W\",\"W\",\"W\",\"W\",\"M\",\"M\",\"W\",\"M\",\"W\",\"W\",\"W\",\"W\",\"W\",\"W\",\"W\",\"M\",\"M\",\"W\",\"M\",\"W\",\"W\",\"W\",\"W\",\"W\",\"W\",\"W\",\"W\",\"W\",\"M\",\"W\",\"M\",\"W\",\"W\",\"W\",\"W\",\"W\",\"W\",\"W\",\"W\",\"W\",\"M\",\"W\",\"W\",\"M\",\"M\",\"W\",\"W\",\"W\",\"W\",\"W\",\"W\",\"W\",\"M\",\"M\",\"M\",\"M\",\"M\",\"M\",\"M\",\"W\",\"W\",\"M\",\"W\",\"W\",\"W\",\"W\",\"M\",\"W\",\"W\",\"W\",\"W\",\"M\",\"W\",\"W\",\"W\",\"W\",\"W\",\"W\",\"W\",\"M\",\"M\",\"W\",\"W\",\"M\",\"M\",\"M\",\"W\",\"W\",\"W\",\"M\",\"M\",\"M\",\"M\",\"M\",\"M\",\"M\",\"M\",\"W\",\"M\",\"W\",\"W\",\"W\",\"W\",\"W\",\"W\",\"W\",\"W\",\"W\",\"M\",\"M\",\"M\",\"M\",\"M\",\"M\",\"M\",\"M\",\"M\",\"W\",\"M\",\"M\",\"M\",\"W\",\"W\",\"W\",\"W\",\"M\",\"M\",\"M\",\"W\",\"M\",\"M\",\"M\",\"W\",\"W\",\"W\",\"M\",\"M\",\"W\",\"W\",\"M\",\"M\",\"M\",\"W\",\"W\",\"M\",\"W\",\"W\",\"W\",\"W\",\"M\",\"W\",\"W\",\"W\",\"W\",\"W\",\"M\",\"M\",\"M\",\"M\",\"M\",\"M\",\"W\",\"W\",\"W\",\"W\",\"W\",\"M\",\"M\",\"M\",\"M\",\"M\",\"W\",\"W\",\"M\",\"M\",\"M\",\"W\",\"W\",\"W\",\"W\",\"M\",\"M\",\"M\",\"M\",\"M\",\"M\",\"W\",\"M\",\"W\",\"M\",\"M\"]}],\"domain\":{\"x\":[0.0,1.0],\"y\":[0.0,1.0]},\"line\":{\"color\":[2016,2016,2016,2016,2016,2016,2016,2016,2016,2016,2016,2016,2016,2016,2016,2016,2016,2016,2016,2016,2016,2016,2016,2016,2016,2016,2016,2016,2016,2016,2016,2016,2016,2016,2016,2016,2016,2016,2016,2016,2016,2016,2016,2016,2016,2016,2016,2016,2016,2016,2016,2016,2016,2016,2016,2016,2016,2016,2016,2016,2016,2016,2016,2016,2016,2016,2016,2016,2016,2016,2016,2016,2016,2016,2016,2016,2016,2016,2016,2016,2016,2016,2016,2016,2016,2016,2016,2016,2016,2016,2016,2016,2016,2016,2016,2016,2016,2016,2016,2016,2016,2016,2016,2016,2016,2016,2016,2016,2016,2016,2016,2016,2016,2016,2016,2016,2016,2016,2016,2016,2016,2016,2016,2016,2016,2016,2016,2016,2016,2016,2016,2016,2016,2016,2016,2016,2016,2016,2016,2016,2016,2012,2012,2012,2012,2012,2012,2012,2012,2012,2012,2012,2012,2012,2012,2012,2012,2012,2012,2012,2012,2012,2012,2012,2012,2012,2012,2012,2012,2012,2012,2012,2012,2012,2012,2012,2012,2012,2012,2012,2012,2012,2012,2012,2012,2012,2012,2012,2012,2012,2012,2012,2012,2012,2012,2012,2012,2012,2012,2012,2012,2012,2012,2012,2012,2012,2012,2012,2012,2012,2012,2012,2012,2012,2012,2012,2012,2012,2012,2012,2012,2012,2012,2012,2012,2012,2012,2012,2012,2012,2012,2012,2012,2012,2012,2012,2012,2012,2012,2012,2012,2012,2012,2012,2012,2012,2012,2012,2012,2012,2012,2012,2012,2012,2012,2012,2012,2012,2012,2012,2012,2012,2012,2012,2012,2012,2012,2012,2012,2012,2012,2012,2012,2012,2012,2012,2012,2012,2012,2008,2008,2008,2008,2008,2008,2008,2008,2008,2008,2008,2008,2008,2008,2008,2008,2008,2008,2008,2008,2008,2008,2008,2008,2008,2008,2008,2008,2008,2008,2008,2008,2008,2008,2008,2008,2008,2008,2008,2008,2008,2008,2008,2008,2008,2008,2008,2008,2008,2008,2008,2008,2008,2008,2008,2008,2008,2008,2008,2008,2008,2008,2008,2008,2008,2008,2008,2008,2008,2008,2008,2008,2008,2008,2008,2008,2008,2008,2008,2008,2008,2008,2008,2008,2008,2008,2008,2008,2008,2008,2008,2008,2008,2008,2008,2008,2008,2008,2008,2008,2008,2008,2008,2008,2008,2008,2008,2008,2008,2008,2008,2008,2008,2008,2008,2008,2008,2008,2008,2008,2008,2008,2008,2008,2008,2008,2008,2008,2004,2004,2004,2004,2004,2004,2004,2004,2004,2004,2004,2004,2004,2004,2004,2004,2004,2004,2004,2004,2004,2004,2004,2004,2004,2004,2004,2004,2004,2004,2004,2004,2004,2004,2004,2004,2004,2004,2004,2004,2004,2004,2004,2004,2004,2004,2004,2004,2004,2004,2004,2004,2004,2004,2004,2004,2004,2004,2004,2004,2004,2004,2004,2004,2004,2004,2004,2004,2004,2004,2004,2004,2004,2004,2004,2004,2004,2004,2004,2004,2004,2004,2004,2004,2004,2004,2004,2004,2004,2004,2004,2004,2004,2004,2004,2004,2004,2004,2004,2004,2004,2004,2004,2004,2004,2004,2004,2004,2004,2004,2004,2004,2004,2004,2004,2004,2004,2004,2004,2004,2004,2004,2004,2004,2004,2004,2004,2004,2004,2004,2004,2004,2004,2004,2004,2004,2000,2000,2000,2000,2000,2000,2000,2000,2000,2000,2000,2000,2000,2000,2000,2000,2000,2000,2000,2000,2000,2000,2000,2000,2000,2000,2000,2000,2000,2000,2000,2000,2000,2000,2000,2000,2000,2000,2000,2000,2000,2000,2000,2000,2000,2000,2000,2000,2000,2000,2000,2000,2000,2000,2000,2000,2000,2000,2000,2000,2000,2000,2000,2000,2000,2000,2000,2000,2000,2000,2000,2000,2000,2000,2000,2000,2000,2000,2000,2000,2000,2000,2000,2000,2000,2000,2000,2000,2000,2000,2000,2000,2000,2000,2000,2000,2000,2000,2000,2000,2000,2000,2000,2000,2000,2000,2000,2000,2000,2000,2000,2000,2000,2000,2000,2000,2000,2000,2000,2000,2000,2000,2000,2000,2000,2000,2000,2000,2000,2000,2000,2000,2000,2000,2000,2000,2000,2000,2000],\"coloraxis\":\"coloraxis\"},\"name\":\"\",\"type\":\"parcats\"}],                        {\"template\":{\"data\":{\"bar\":[{\"error_x\":{\"color\":\"#2a3f5f\"},\"error_y\":{\"color\":\"#2a3f5f\"},\"marker\":{\"line\":{\"color\":\"#E5ECF6\",\"width\":0.5},\"pattern\":{\"fillmode\":\"overlay\",\"size\":10,\"solidity\":0.2}},\"type\":\"bar\"}],\"barpolar\":[{\"marker\":{\"line\":{\"color\":\"#E5ECF6\",\"width\":0.5},\"pattern\":{\"fillmode\":\"overlay\",\"size\":10,\"solidity\":0.2}},\"type\":\"barpolar\"}],\"carpet\":[{\"aaxis\":{\"endlinecolor\":\"#2a3f5f\",\"gridcolor\":\"white\",\"linecolor\":\"white\",\"minorgridcolor\":\"white\",\"startlinecolor\":\"#2a3f5f\"},\"baxis\":{\"endlinecolor\":\"#2a3f5f\",\"gridcolor\":\"white\",\"linecolor\":\"white\",\"minorgridcolor\":\"white\",\"startlinecolor\":\"#2a3f5f\"},\"type\":\"carpet\"}],\"choropleth\":[{\"colorbar\":{\"outlinewidth\":0,\"ticks\":\"\"},\"type\":\"choropleth\"}],\"contour\":[{\"colorbar\":{\"outlinewidth\":0,\"ticks\":\"\"},\"colorscale\":[[0.0,\"#0d0887\"],[0.1111111111111111,\"#46039f\"],[0.2222222222222222,\"#7201a8\"],[0.3333333333333333,\"#9c179e\"],[0.4444444444444444,\"#bd3786\"],[0.5555555555555556,\"#d8576b\"],[0.6666666666666666,\"#ed7953\"],[0.7777777777777778,\"#fb9f3a\"],[0.8888888888888888,\"#fdca26\"],[1.0,\"#f0f921\"]],\"type\":\"contour\"}],\"contourcarpet\":[{\"colorbar\":{\"outlinewidth\":0,\"ticks\":\"\"},\"type\":\"contourcarpet\"}],\"heatmap\":[{\"colorbar\":{\"outlinewidth\":0,\"ticks\":\"\"},\"colorscale\":[[0.0,\"#0d0887\"],[0.1111111111111111,\"#46039f\"],[0.2222222222222222,\"#7201a8\"],[0.3333333333333333,\"#9c179e\"],[0.4444444444444444,\"#bd3786\"],[0.5555555555555556,\"#d8576b\"],[0.6666666666666666,\"#ed7953\"],[0.7777777777777778,\"#fb9f3a\"],[0.8888888888888888,\"#fdca26\"],[1.0,\"#f0f921\"]],\"type\":\"heatmap\"}],\"heatmapgl\":[{\"colorbar\":{\"outlinewidth\":0,\"ticks\":\"\"},\"colorscale\":[[0.0,\"#0d0887\"],[0.1111111111111111,\"#46039f\"],[0.2222222222222222,\"#7201a8\"],[0.3333333333333333,\"#9c179e\"],[0.4444444444444444,\"#bd3786\"],[0.5555555555555556,\"#d8576b\"],[0.6666666666666666,\"#ed7953\"],[0.7777777777777778,\"#fb9f3a\"],[0.8888888888888888,\"#fdca26\"],[1.0,\"#f0f921\"]],\"type\":\"heatmapgl\"}],\"histogram\":[{\"marker\":{\"pattern\":{\"fillmode\":\"overlay\",\"size\":10,\"solidity\":0.2}},\"type\":\"histogram\"}],\"histogram2d\":[{\"colorbar\":{\"outlinewidth\":0,\"ticks\":\"\"},\"colorscale\":[[0.0,\"#0d0887\"],[0.1111111111111111,\"#46039f\"],[0.2222222222222222,\"#7201a8\"],[0.3333333333333333,\"#9c179e\"],[0.4444444444444444,\"#bd3786\"],[0.5555555555555556,\"#d8576b\"],[0.6666666666666666,\"#ed7953\"],[0.7777777777777778,\"#fb9f3a\"],[0.8888888888888888,\"#fdca26\"],[1.0,\"#f0f921\"]],\"type\":\"histogram2d\"}],\"histogram2dcontour\":[{\"colorbar\":{\"outlinewidth\":0,\"ticks\":\"\"},\"colorscale\":[[0.0,\"#0d0887\"],[0.1111111111111111,\"#46039f\"],[0.2222222222222222,\"#7201a8\"],[0.3333333333333333,\"#9c179e\"],[0.4444444444444444,\"#bd3786\"],[0.5555555555555556,\"#d8576b\"],[0.6666666666666666,\"#ed7953\"],[0.7777777777777778,\"#fb9f3a\"],[0.8888888888888888,\"#fdca26\"],[1.0,\"#f0f921\"]],\"type\":\"histogram2dcontour\"}],\"mesh3d\":[{\"colorbar\":{\"outlinewidth\":0,\"ticks\":\"\"},\"type\":\"mesh3d\"}],\"parcoords\":[{\"line\":{\"colorbar\":{\"outlinewidth\":0,\"ticks\":\"\"}},\"type\":\"parcoords\"}],\"pie\":[{\"automargin\":true,\"type\":\"pie\"}],\"scatter\":[{\"marker\":{\"colorbar\":{\"outlinewidth\":0,\"ticks\":\"\"}},\"type\":\"scatter\"}],\"scatter3d\":[{\"line\":{\"colorbar\":{\"outlinewidth\":0,\"ticks\":\"\"}},\"marker\":{\"colorbar\":{\"outlinewidth\":0,\"ticks\":\"\"}},\"type\":\"scatter3d\"}],\"scattercarpet\":[{\"marker\":{\"colorbar\":{\"outlinewidth\":0,\"ticks\":\"\"}},\"type\":\"scattercarpet\"}],\"scattergeo\":[{\"marker\":{\"colorbar\":{\"outlinewidth\":0,\"ticks\":\"\"}},\"type\":\"scattergeo\"}],\"scattergl\":[{\"marker\":{\"colorbar\":{\"outlinewidth\":0,\"ticks\":\"\"}},\"type\":\"scattergl\"}],\"scattermapbox\":[{\"marker\":{\"colorbar\":{\"outlinewidth\":0,\"ticks\":\"\"}},\"type\":\"scattermapbox\"}],\"scatterpolar\":[{\"marker\":{\"colorbar\":{\"outlinewidth\":0,\"ticks\":\"\"}},\"type\":\"scatterpolar\"}],\"scatterpolargl\":[{\"marker\":{\"colorbar\":{\"outlinewidth\":0,\"ticks\":\"\"}},\"type\":\"scatterpolargl\"}],\"scatterternary\":[{\"marker\":{\"colorbar\":{\"outlinewidth\":0,\"ticks\":\"\"}},\"type\":\"scatterternary\"}],\"surface\":[{\"colorbar\":{\"outlinewidth\":0,\"ticks\":\"\"},\"colorscale\":[[0.0,\"#0d0887\"],[0.1111111111111111,\"#46039f\"],[0.2222222222222222,\"#7201a8\"],[0.3333333333333333,\"#9c179e\"],[0.4444444444444444,\"#bd3786\"],[0.5555555555555556,\"#d8576b\"],[0.6666666666666666,\"#ed7953\"],[0.7777777777777778,\"#fb9f3a\"],[0.8888888888888888,\"#fdca26\"],[1.0,\"#f0f921\"]],\"type\":\"surface\"}],\"table\":[{\"cells\":{\"fill\":{\"color\":\"#EBF0F8\"},\"line\":{\"color\":\"white\"}},\"header\":{\"fill\":{\"color\":\"#C8D4E3\"},\"line\":{\"color\":\"white\"}},\"type\":\"table\"}]},\"layout\":{\"annotationdefaults\":{\"arrowcolor\":\"#2a3f5f\",\"arrowhead\":0,\"arrowwidth\":1},\"autotypenumbers\":\"strict\",\"coloraxis\":{\"colorbar\":{\"outlinewidth\":0,\"ticks\":\"\"}},\"colorscale\":{\"diverging\":[[0,\"#8e0152\"],[0.1,\"#c51b7d\"],[0.2,\"#de77ae\"],[0.3,\"#f1b6da\"],[0.4,\"#fde0ef\"],[0.5,\"#f7f7f7\"],[0.6,\"#e6f5d0\"],[0.7,\"#b8e186\"],[0.8,\"#7fbc41\"],[0.9,\"#4d9221\"],[1,\"#276419\"]],\"sequential\":[[0.0,\"#0d0887\"],[0.1111111111111111,\"#46039f\"],[0.2222222222222222,\"#7201a8\"],[0.3333333333333333,\"#9c179e\"],[0.4444444444444444,\"#bd3786\"],[0.5555555555555556,\"#d8576b\"],[0.6666666666666666,\"#ed7953\"],[0.7777777777777778,\"#fb9f3a\"],[0.8888888888888888,\"#fdca26\"],[1.0,\"#f0f921\"]],\"sequentialminus\":[[0.0,\"#0d0887\"],[0.1111111111111111,\"#46039f\"],[0.2222222222222222,\"#7201a8\"],[0.3333333333333333,\"#9c179e\"],[0.4444444444444444,\"#bd3786\"],[0.5555555555555556,\"#d8576b\"],[0.6666666666666666,\"#ed7953\"],[0.7777777777777778,\"#fb9f3a\"],[0.8888888888888888,\"#fdca26\"],[1.0,\"#f0f921\"]]},\"colorway\":[\"#636efa\",\"#EF553B\",\"#00cc96\",\"#ab63fa\",\"#FFA15A\",\"#19d3f3\",\"#FF6692\",\"#B6E880\",\"#FF97FF\",\"#FECB52\"],\"font\":{\"color\":\"#2a3f5f\"},\"geo\":{\"bgcolor\":\"white\",\"lakecolor\":\"white\",\"landcolor\":\"#E5ECF6\",\"showlakes\":true,\"showland\":true,\"subunitcolor\":\"white\"},\"hoverlabel\":{\"align\":\"left\"},\"hovermode\":\"closest\",\"mapbox\":{\"style\":\"light\"},\"paper_bgcolor\":\"white\",\"plot_bgcolor\":\"#E5ECF6\",\"polar\":{\"angularaxis\":{\"gridcolor\":\"white\",\"linecolor\":\"white\",\"ticks\":\"\"},\"bgcolor\":\"#E5ECF6\",\"radialaxis\":{\"gridcolor\":\"white\",\"linecolor\":\"white\",\"ticks\":\"\"}},\"scene\":{\"xaxis\":{\"backgroundcolor\":\"#E5ECF6\",\"gridcolor\":\"white\",\"gridwidth\":2,\"linecolor\":\"white\",\"showbackground\":true,\"ticks\":\"\",\"zerolinecolor\":\"white\"},\"yaxis\":{\"backgroundcolor\":\"#E5ECF6\",\"gridcolor\":\"white\",\"gridwidth\":2,\"linecolor\":\"white\",\"showbackground\":true,\"ticks\":\"\",\"zerolinecolor\":\"white\"},\"zaxis\":{\"backgroundcolor\":\"#E5ECF6\",\"gridcolor\":\"white\",\"gridwidth\":2,\"linecolor\":\"white\",\"showbackground\":true,\"ticks\":\"\",\"zerolinecolor\":\"white\"}},\"shapedefaults\":{\"line\":{\"color\":\"#2a3f5f\"}},\"ternary\":{\"aaxis\":{\"gridcolor\":\"white\",\"linecolor\":\"white\",\"ticks\":\"\"},\"baxis\":{\"gridcolor\":\"white\",\"linecolor\":\"white\",\"ticks\":\"\"},\"bgcolor\":\"#E5ECF6\",\"caxis\":{\"gridcolor\":\"white\",\"linecolor\":\"white\",\"ticks\":\"\"}},\"title\":{\"x\":0.05},\"xaxis\":{\"automargin\":true,\"gridcolor\":\"white\",\"linecolor\":\"white\",\"ticks\":\"\",\"title\":{\"standoff\":15},\"zerolinecolor\":\"white\",\"zerolinewidth\":2},\"yaxis\":{\"automargin\":true,\"gridcolor\":\"white\",\"linecolor\":\"white\",\"ticks\":\"\",\"title\":{\"standoff\":15},\"zerolinecolor\":\"white\",\"zerolinewidth\":2}}},\"coloraxis\":{\"colorbar\":{\"title\":{\"text\":\"Year\"}},\"colorscale\":[[0.0,\"#0d0887\"],[0.1111111111111111,\"#46039f\"],[0.2222222222222222,\"#7201a8\"],[0.3333333333333333,\"#9c179e\"],[0.4444444444444444,\"#bd3786\"],[0.5555555555555556,\"#d8576b\"],[0.6666666666666666,\"#ed7953\"],[0.7777777777777778,\"#fb9f3a\"],[0.8888888888888888,\"#fdca26\"],[1.0,\"#f0f921\"]]},\"legend\":{\"tracegroupgap\":0},\"margin\":{\"t\":60}},                        {\"responsive\": true}                    ).then(function(){\n",
              "                            \n",
              "var gd = document.getElementById('79460edf-491d-4b96-b71b-8c9aa19c0e6c');\n",
              "var x = new MutationObserver(function (mutations, observer) {{\n",
              "        var display = window.getComputedStyle(gd).display;\n",
              "        if (!display || display === 'none') {{\n",
              "            console.log([gd, 'removed!']);\n",
              "            Plotly.purge(gd);\n",
              "            observer.disconnect();\n",
              "        }}\n",
              "}});\n",
              "\n",
              "// Listen for the removal of the full notebook cells\n",
              "var notebookContainer = gd.closest('#notebook-container');\n",
              "if (notebookContainer) {{\n",
              "    x.observe(notebookContainer, {childList: true});\n",
              "}}\n",
              "\n",
              "// Listen for the clearing of the current output cell\n",
              "var outputEl = gd.closest('.output');\n",
              "if (outputEl) {{\n",
              "    x.observe(outputEl, {childList: true});\n",
              "}}\n",
              "\n",
              "                        })                };                            </script>        </div>\n",
              "</body>\n",
              "</html>"
            ]
          },
          "metadata": {}
        }
      ],
      "source": [
        "#Please use this cell to create your figure. Please use Year column to color your graph.\n",
        "\n",
        "#display rows 0 through 682 of the sorted dataframe df2\n",
        "px.parallel_categories(df2.iloc[0:682], dimensions=['Year', 'Medal', 'Gender'], color='Year')"
      ]
    },
    {
      "cell_type": "markdown",
      "source": [
        "**Q2** Please inspect the code below and observe how values are plotted by running it. Then, read the 2016elections.csv from the DATA folder and select rows for AR, MI, CA, and WI. Then, utilize stacked bar plot, to stack vote percentages for Trump, Clinton, Johson, and Others. Please see 'pct_clinton',\t'pct_trump',\t'pct_johnson',\t'pct_other' columns. Make sure that your x tick labels are those four states above."
      ],
      "metadata": {
        "id": "dqL_OMuiKITK"
      }
    },
    {
      "cell_type": "code",
      "source": [
        "import pandas as pd\n",
        "import seaborn as sns\n",
        "import matplotlib.pyplot as plt\n",
        " \n",
        "# create DataFrame\n",
        "df3 = pd.DataFrame({'High Temp': [28, 30, 34, 38, 45, 42,\n",
        "                                 38, 35, 32, 28, 25, 21],\n",
        "                   'Low Temp': [22, 26, 30, 32, 41, 38,\n",
        "                                32, 31, 28, 22, 15, 15],\n",
        "                   'Avg Temp': [25, 28, 32, 35, 43, 40,\n",
        "                                35, 33, 30, 25, 20, 18]},\n",
        "                  index=['Jan', 'Feb', 'Mar', 'Apr', 'May',\n",
        "                         'Jun', 'Jul', 'Aug', 'Sep', 'Oct',\n",
        "                         'Nov', 'Dec'])\n",
        " \n",
        " \n",
        "# create stacked bar chart for monthly temperatures\n",
        "df3.plot(kind='bar', stacked=True, color=['red', 'skyblue', 'green'])\n",
        " \n",
        "# labels for x & y axis\n",
        "plt.xlabel('Months')\n",
        "plt.ylabel('Temp ranges in Degree Celsius')\n",
        " \n",
        "# title of plot\n",
        "plt.title('Monthly Temperatures in a year')"
      ],
      "metadata": {
        "colab": {
          "base_uri": "https://localhost:8080/",
          "height": 323
        },
        "id": "tLCiMCuPKRbC",
        "outputId": "621cacfc-a4bd-4200-e293-6eddd571ddb6"
      },
      "execution_count": null,
      "outputs": [
        {
          "output_type": "execute_result",
          "data": {
            "text/plain": [
              "Text(0.5, 1.0, 'Monthly Temperatures in a year')"
            ]
          },
          "metadata": {},
          "execution_count": 21
        },
        {
          "output_type": "display_data",
          "data": {
            "image/png": "[encoded data removed]",
            "text/plain": [
              "<Figure size 432x288 with 1 Axes>"
            ]
          },
          "metadata": {
            "needs_background": "light"
          }
        }
      ]
    },
    {
      "cell_type": "code",
      "source": [
        "#You can use this cell to write your code. It is doable at most 4 lines of code. \n",
        "df4 = pd.read_csv('/content/drive/MyDrive/DATA/2016elections.csv')\n",
        "\n",
        "df4.head()"
      ],
      "metadata": {
        "id": "8rMIPtQDK9QI",
        "colab": {
          "base_uri": "https://localhost:8080/",
          "height": 300
        },
        "outputId": "d7fb01cf-c787-4770-d8cb-090bb2010fbf"
      },
      "execution_count": null,
      "outputs": [
        {
          "output_type": "execute_result",
          "data": {
            "text/html": [
              "\n",
              "  <div id=\"df-8b918793-a6ea-468f-926b-b87ccfc1f9a4\">\n",
              "    <div class=\"colab-df-container\">\n",
              "      <div>\n",
              "<style scoped>\n",
              "    .dataframe tbody tr th:only-of-type {\n",
              "        vertical-align: middle;\n",
              "    }\n",
              "\n",
              "    .dataframe tbody tr th {\n",
              "        vertical-align: top;\n",
              "    }\n",
              "\n",
              "    .dataframe thead th {\n",
              "        text-align: right;\n",
              "    }\n",
              "</style>\n",
              "<table border=\"1\" class=\"dataframe\">\n",
              "  <thead>\n",
              "    <tr style=\"text-align: right;\">\n",
              "      <th></th>\n",
              "      <th>state</th>\n",
              "      <th>st</th>\n",
              "      <th>fips</th>\n",
              "      <th>total_vote</th>\n",
              "      <th>vote_margin</th>\n",
              "      <th>winner</th>\n",
              "      <th>party</th>\n",
              "      <th>pct_margin</th>\n",
              "      <th>r_points</th>\n",
              "      <th>d_points</th>\n",
              "      <th>...</th>\n",
              "      <th>pct_johnson</th>\n",
              "      <th>pct_other</th>\n",
              "      <th>clinton_vote</th>\n",
              "      <th>trump_vote</th>\n",
              "      <th>johnson_vote</th>\n",
              "      <th>other_vote</th>\n",
              "      <th>ev_dem</th>\n",
              "      <th>ev_rep</th>\n",
              "      <th>ev_oth</th>\n",
              "      <th>census</th>\n",
              "    </tr>\n",
              "  </thead>\n",
              "  <tbody>\n",
              "    <tr>\n",
              "      <th>0</th>\n",
              "      <td>Alabama</td>\n",
              "      <td>AL</td>\n",
              "      <td>1</td>\n",
              "      <td>2123372</td>\n",
              "      <td>588708</td>\n",
              "      <td>Trump</td>\n",
              "      <td>Republican</td>\n",
              "      <td>0.2773</td>\n",
              "      <td>27.72</td>\n",
              "      <td>-27.72</td>\n",
              "      <td>...</td>\n",
              "      <td>2.09</td>\n",
              "      <td>1.46</td>\n",
              "      <td>729547</td>\n",
              "      <td>1318255</td>\n",
              "      <td>44467</td>\n",
              "      <td>31103</td>\n",
              "      <td>0</td>\n",
              "      <td>9</td>\n",
              "      <td>0</td>\n",
              "      <td>South</td>\n",
              "    </tr>\n",
              "    <tr>\n",
              "      <th>1</th>\n",
              "      <td>Alaska</td>\n",
              "      <td>AK</td>\n",
              "      <td>2</td>\n",
              "      <td>318608</td>\n",
              "      <td>46933</td>\n",
              "      <td>Trump</td>\n",
              "      <td>Republican</td>\n",
              "      <td>0.1473</td>\n",
              "      <td>14.73</td>\n",
              "      <td>-14.73</td>\n",
              "      <td>...</td>\n",
              "      <td>5.88</td>\n",
              "      <td>6.29</td>\n",
              "      <td>116454</td>\n",
              "      <td>163387</td>\n",
              "      <td>18725</td>\n",
              "      <td>20042</td>\n",
              "      <td>0</td>\n",
              "      <td>3</td>\n",
              "      <td>0</td>\n",
              "      <td>West</td>\n",
              "    </tr>\n",
              "    <tr>\n",
              "      <th>2</th>\n",
              "      <td>Arizona</td>\n",
              "      <td>AZ</td>\n",
              "      <td>4</td>\n",
              "      <td>2604657</td>\n",
              "      <td>91234</td>\n",
              "      <td>Trump</td>\n",
              "      <td>Republican</td>\n",
              "      <td>0.0350</td>\n",
              "      <td>3.50</td>\n",
              "      <td>-3.50</td>\n",
              "      <td>...</td>\n",
              "      <td>4.08</td>\n",
              "      <td>3.25</td>\n",
              "      <td>1161167</td>\n",
              "      <td>1252401</td>\n",
              "      <td>106327</td>\n",
              "      <td>84762</td>\n",
              "      <td>0</td>\n",
              "      <td>11</td>\n",
              "      <td>0</td>\n",
              "      <td>West</td>\n",
              "    </tr>\n",
              "    <tr>\n",
              "      <th>3</th>\n",
              "      <td>Arkansas</td>\n",
              "      <td>AR</td>\n",
              "      <td>5</td>\n",
              "      <td>1130635</td>\n",
              "      <td>304378</td>\n",
              "      <td>Trump</td>\n",
              "      <td>Republican</td>\n",
              "      <td>0.2692</td>\n",
              "      <td>26.92</td>\n",
              "      <td>-26.92</td>\n",
              "      <td>...</td>\n",
              "      <td>2.64</td>\n",
              "      <td>3.13</td>\n",
              "      <td>380494</td>\n",
              "      <td>684872</td>\n",
              "      <td>29829</td>\n",
              "      <td>35440</td>\n",
              "      <td>0</td>\n",
              "      <td>6</td>\n",
              "      <td>0</td>\n",
              "      <td>South</td>\n",
              "    </tr>\n",
              "    <tr>\n",
              "      <th>4</th>\n",
              "      <td>California</td>\n",
              "      <td>CA</td>\n",
              "      <td>6</td>\n",
              "      <td>14237893</td>\n",
              "      <td>4269978</td>\n",
              "      <td>Clinton</td>\n",
              "      <td>Democratic</td>\n",
              "      <td>0.2999</td>\n",
              "      <td>-29.99</td>\n",
              "      <td>29.99</td>\n",
              "      <td>...</td>\n",
              "      <td>3.36</td>\n",
              "      <td>3.66</td>\n",
              "      <td>8753792</td>\n",
              "      <td>4483814</td>\n",
              "      <td>478500</td>\n",
              "      <td>521787</td>\n",
              "      <td>55</td>\n",
              "      <td>0</td>\n",
              "      <td>0</td>\n",
              "      <td>West</td>\n",
              "    </tr>\n",
              "  </tbody>\n",
              "</table>\n",
              "<p>5 rows × 22 columns</p>\n",
              "</div>\n",
              "      <button class=\"colab-df-convert\" onclick=\"convertToInteractive('df-8b918793-a6ea-468f-926b-b87ccfc1f9a4')\"\n",
              "              title=\"Convert this dataframe to an interactive table.\"\n",
              "              style=\"display:none;\">\n",
              "        \n",
              "  <svg xmlns=\"http://www.w3.org/2000/svg\" height=\"24px\"viewBox=\"0 0 24 24\"\n",
              "       width=\"24px\">\n",
              "    <path d=\"M0 0h24v24H0V0z\" fill=\"none\"/>\n",
              "    <path d=\"M18.56 5.44l.94 2.06.94-2.06 2.06-.94-2.06-.94-.94-2.06-.94 2.06-2.06.94zm-11 1L8.5 8.5l.94-2.06 2.06-.94-2.06-.94L8.5 2.5l-.94 2.06-2.06.94zm10 10l.94 2.06.94-2.06 2.06-.94-2.06-.94-.94-2.06-.94 2.06-2.06.94z\"/><path d=\"M17.41 7.96l-1.37-1.37c-.4-.4-.92-.59-1.43-.59-.52 0-1.04.2-1.43.59L10.3 9.45l-7.72 7.72c-.78.78-.78 2.05 0 2.83L4 21.41c.39.39.9.59 1.41.59.51 0 1.02-.2 1.41-.59l7.78-7.78 2.81-2.81c.8-.78.8-2.07 0-2.86zM5.41 20L4 18.59l7.72-7.72 1.47 1.35L5.41 20z\"/>\n",
              "  </svg>\n",
              "      </button>\n",
              "      \n",
              "  <style>\n",
              "    .colab-df-container {\n",
              "      display:flex;\n",
              "      flex-wrap:wrap;\n",
              "      gap: 12px;\n",
              "    }\n",
              "\n",
              "    .colab-df-convert {\n",
              "      background-color: #E8F0FE;\n",
              "      border: none;\n",
              "      border-radius: 50%;\n",
              "      cursor: pointer;\n",
              "      display: none;\n",
              "      fill: #1967D2;\n",
              "      height: 32px;\n",
              "      padding: 0 0 0 0;\n",
              "      width: 32px;\n",
              "    }\n",
              "\n",
              "    .colab-df-convert:hover {\n",
              "      background-color: #E2EBFA;\n",
              "      box-shadow: 0px 1px 2px rgba(60, 64, 67, 0.3), 0px 1px 3px 1px rgba(60, 64, 67, 0.15);\n",
              "      fill: #174EA6;\n",
              "    }\n",
              "\n",
              "    [theme=dark] .colab-df-convert {\n",
              "      background-color: #3B4455;\n",
              "      fill: #D2E3FC;\n",
              "    }\n",
              "\n",
              "    [theme=dark] .colab-df-convert:hover {\n",
              "      background-color: #434B5C;\n",
              "      box-shadow: 0px 1px 3px 1px rgba(0, 0, 0, 0.15);\n",
              "      filter: drop-shadow(0px 1px 2px rgba(0, 0, 0, 0.3));\n",
              "      fill: #FFFFFF;\n",
              "    }\n",
              "  </style>\n",
              "\n",
              "      <script>\n",
              "        const buttonEl =\n",
              "          document.querySelector('#df-8b918793-a6ea-468f-926b-b87ccfc1f9a4 button.colab-df-convert');\n",
              "        buttonEl.style.display =\n",
              "          google.colab.kernel.accessAllowed ? 'block' : 'none';\n",
              "\n",
              "        async function convertToInteractive(key) {\n",
              "          const element = document.querySelector('#df-8b918793-a6ea-468f-926b-b87ccfc1f9a4');\n",
              "          const dataTable =\n",
              "            await google.colab.kernel.invokeFunction('convertToInteractive',\n",
              "                                                     [key], {});\n",
              "          if (!dataTable) return;\n",
              "\n",
              "          const docLinkHtml = 'Like what you see? Visit the ' +\n",
              "            '<a target=\"_blank\" href=https://colab.research.google.com/notebooks/data_table.ipynb>data table notebook</a>'\n",
              "            + ' to learn more about interactive tables.';\n",
              "          element.innerHTML = '';\n",
              "          dataTable['output_type'] = 'display_data';\n",
              "          await google.colab.output.renderOutput(dataTable, element);\n",
              "          const docLink = document.createElement('div');\n",
              "          docLink.innerHTML = docLinkHtml;\n",
              "          element.appendChild(docLink);\n",
              "        }\n",
              "      </script>\n",
              "    </div>\n",
              "  </div>\n",
              "  "
            ],
            "text/plain": [
              "        state  st  fips  total_vote  vote_margin   winner       party  \\\n",
              "0     Alabama  AL     1     2123372       588708    Trump  Republican   \n",
              "1      Alaska  AK     2      318608        46933    Trump  Republican   \n",
              "2     Arizona  AZ     4     2604657        91234    Trump  Republican   \n",
              "3    Arkansas  AR     5     1130635       304378    Trump  Republican   \n",
              "4  California  CA     6    14237893      4269978  Clinton  Democratic   \n",
              "\n",
              "   pct_margin  r_points  d_points  ...  pct_johnson  pct_other  clinton_vote  \\\n",
              "0      0.2773     27.72    -27.72  ...         2.09       1.46        729547   \n",
              "1      0.1473     14.73    -14.73  ...         5.88       6.29        116454   \n",
              "2      0.0350      3.50     -3.50  ...         4.08       3.25       1161167   \n",
              "3      0.2692     26.92    -26.92  ...         2.64       3.13        380494   \n",
              "4      0.2999    -29.99     29.99  ...         3.36       3.66       8753792   \n",
              "\n",
              "   trump_vote  johnson_vote  other_vote  ev_dem  ev_rep  ev_oth  census  \n",
              "0     1318255         44467       31103       0       9       0   South  \n",
              "1      163387         18725       20042       0       3       0    West  \n",
              "2     1252401        106327       84762       0      11       0    West  \n",
              "3      684872         29829       35440       0       6       0   South  \n",
              "4     4483814        478500      521787      55       0       0    West  \n",
              "\n",
              "[5 rows x 22 columns]"
            ]
          },
          "metadata": {},
          "execution_count": 23
        }
      ]
    },
    {
      "cell_type": "code",
      "source": [
        "#create df with only AR, CA, MI & WI\n",
        "df5 = df4[(df4['st'] == 'AR') | (df4['st'] == 'MI') | (df4['st'] == 'CA') | (df4['st'] == 'WI')]"
      ],
      "metadata": {
        "id": "EiEkA7Y2Tfzp"
      },
      "execution_count": null,
      "outputs": []
    },
    {
      "cell_type": "code",
      "source": [
        "#select relevant columns and send to new df\n",
        "selected_cols = df5[['pct_clinton', 'pct_trump', 'pct_johnson', 'pct_other']]\n",
        "df6 = selected_cols.copy()"
      ],
      "metadata": {
        "id": "_P6m2ncrU6vI"
      },
      "execution_count": null,
      "outputs": []
    },
    {
      "cell_type": "code",
      "source": [
        "#make chart\n",
        "\n",
        "# create stacked bar chart for monthly temperatures\n",
        "df6.plot(kind='bar', stacked=True, color=['red', 'skyblue', 'green', 'purple'])\n",
        " \n",
        "# labels for x & y axis\n",
        "plt.xlabel('Candidate')\n",
        "plt.ylabel('% of Votes')\n",
        " \n",
        "# title of plot\n",
        "plt.title('2016 Election')"
      ],
      "metadata": {
        "colab": {
          "base_uri": "https://localhost:8080/",
          "height": 315
        },
        "id": "6HxAmEs1WWEp",
        "outputId": "f3023837-a9a3-4f70-f991-2a9912ac8097"
      },
      "execution_count": null,
      "outputs": [
        {
          "output_type": "execute_result",
          "data": {
            "text/plain": [
              "Text(0.5, 1.0, '2016 Election')"
            ]
          },
          "metadata": {},
          "execution_count": 34
        },
        {
          "output_type": "display_data",
          "data": {
            "image/png": "[encoded data removed]",
            "text/plain": [
              "<Figure size 432x288 with 1 Axes>"
            ]
          },
          "metadata": {
            "needs_background": "light"
          }
        }
      ]
    }
  ]
}